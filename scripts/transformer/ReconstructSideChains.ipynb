{
 "cells": [
  {
   "cell_type": "markdown",
   "metadata": {},
   "source": [
    "# Sample Notebook to use generated components to generate side chains from sampled internal coordinates (Chignolin)"
   ]
  },
  {
   "cell_type": "code",
   "execution_count": 1,
   "metadata": {},
   "outputs": [],
   "source": [
    "import torch"
   ]
  },
  {
   "cell_type": "code",
   "execution_count": 2,
   "metadata": {},
   "outputs": [],
   "source": [
    "from openmm import *\n",
    "from openmm.app import *\n",
    "from openmm.unit import *"
   ]
  },
  {
   "cell_type": "code",
   "execution_count": 4,
   "metadata": {},
   "outputs": [
    {
     "name": "stderr",
     "output_type": "stream",
     "text": [
      "Warning on use of the timeseries module: If the inherent timescales of the system are long compared to those being analyzed, this statistical inefficiency may be an underestimate.  The estimate presumes the use of many statistically independent samples.  Tests should be performed to assess whether this condition is satisfied.   Be cautious in the interpretation of the data.\n",
      "\n",
      "****** PyMBAR will use 64-bit JAX! *******\n",
      "* JAX is currently set to 32-bit bitsize *\n",
      "* which is its default.                  *\n",
      "*                                        *\n",
      "* PyMBAR requires 64-bit mode and WILL   *\n",
      "* enable JAX's 64-bit mode when called.  *\n",
      "*                                        *\n",
      "* This MAY cause problems with other     *\n",
      "* Uses of JAX in the same code.          *\n",
      "******************************************\n",
      "\n"
     ]
    }
   ],
   "source": [
    "import os\n",
    "import numpy as np\n",
    "import mdtraj as md\n",
    "import torch\n",
    "import matplotlib.pyplot as plt\n",
    "from cgp import IdentityModel, SideChainLens, Factory, ProteinImplicit"
   ]
  },
  {
   "cell_type": "code",
   "execution_count": 5,
   "metadata": {},
   "outputs": [],
   "source": [
    "device = torch.device(\"cpu\")"
   ]
  },
  {
   "cell_type": "code",
   "execution_count": 7,
   "metadata": {},
   "outputs": [
    {
     "name": "stderr",
     "output_type": "stream",
     "text": [
      "/home/groups/rotskoff/shriramconda3/envs/cgpomm/lib/python3.11/site-packages/mdtraj/core/trajectory.py:439: UserWarning: top= kwargs ignored since this file parser does not support it\n",
      "  warnings.warn('top= kwargs ignored since this file parser does not support it')\n"
     ]
    }
   ],
   "source": [
    "\n",
    "root_protein_folder_name = \"./datasets/chignolin/\"\n",
    "traj_folder_name = f\"{root_protein_folder_name}/fg_traj/\"\n",
    "protein_filename = traj_folder_name + \"chignolin_traj.h5\"\n",
    "all_folded_indices = np.load(traj_folder_name + \"all_folded_indices.npy\")\n",
    "all_unfolded_indices = np.load(traj_folder_name + \"all_unfolded_indices.npy\")\n",
    "all_misfolded_indices = np.load(traj_folder_name + \"all_misfolded_indices.npy\")\n",
    "\n",
    "\n",
    "traj = md.load(protein_filename)\n",
    "\n",
    "protein_top = traj.topology\n",
    "\n",
    "side_chain_lens = SideChainLens(protein_top=protein_top)\n",
    "side_chain_info = side_chain_lens.get_data(traj)\n",
    "cg_indices = side_chain_lens.atom_indices_coarser\n",
    "\n",
    "all_chi_info_by_residue_num = side_chain_info[\"chi\"]\n",
    "bond_length_angle_models_by_res_num = {}\n",
    "cg_c_info_by_res_num = {}\n",
    "z_matrix_by_res_num = {}\n",
    "full_z_matrix = []\n",
    "for (res_num, chi_info) in all_chi_info_by_residue_num.items():\n",
    "    if chi_info is None:\n",
    "        continue\n",
    "    full_z_matrix.append(chi_info[\"dihedral_indices\"])\n",
    "\n",
    "full_z_matrix = np.concatenate(full_z_matrix)"
   ]
  },
  {
   "cell_type": "code",
   "execution_count": 9,
   "metadata": {},
   "outputs": [],
   "source": [
    "dim_model = 256\n",
    "dropout_p = 0.1\n",
    "kt_cutoff = -50\n",
    "beta_target = 1.0\n",
    "epoch_num = 6\n",
    "dataset_tag = f\"prop_temp_300.0_dt_0.001_num_steps_5_cutoff_to_use_kt_{kt_cutoff}\"\n",
    "save_folder_name = f\"{dataset_tag}/test/\"\n",
    "all_backbones = os.listdir(save_folder_name)\n",
    "all_backbones = np.unique([x.split(\"_\")[0] for x in all_backbones]).astype(int)\n"
   ]
  },
  {
   "cell_type": "code",
   "execution_count": null,
   "metadata": {},
   "outputs": [],
   "source": [
    "for backbone in all_backbones:\n",
    "    print(backbone)\n",
    "    all_ic_samples = torch.load(f\"{save_folder_name}{backbone}_all_ic_samples.pt\", map_location=device)\n",
    "    ic_model = IdentityModel(all_samples=all_ic_samples)\n",
    "\n",
    "    traj_i = traj[backbone]\n",
    "    traj_i = traj_i[[0] * all_ic_samples.shape[0]]\n",
    "    cg_traj = traj_i.atom_slice(cg_indices)\n",
    "    cg_traj_pos = torch.tensor(cg_traj.xyz, device=device)\n",
    "    n_samples = cg_traj_pos.shape[0]\n",
    "    side_chain_factory = Factory(lens=side_chain_lens)\n",
    "    all_reconstructed_positions, total_log_prob = side_chain_factory.reconstruct_from_cg_traj(cg_traj_pos=cg_traj_pos,\n",
    "                                                                                            ic_model=ic_model, cg_c_info=None,\n",
    "                                                                                            z_matrix=full_z_matrix, grad_enabled=False, \n",
    "                                                                                            device=device)\n",
    "    reconstructed_traj = md.Trajectory(all_reconstructed_positions.detach().cpu().numpy(),\n",
    "                                    topology=protein_top)\n",
    "    reconstructed_traj.save(f\"{save_folder_name}{backbone}_chignolin_traj_reconstructed.h5\")\n"
   ]
  }
 ],
 "metadata": {
  "kernelspec": {
   "display_name": "Python [conda env:cgpomm]",
   "language": "python",
   "name": "conda-env-cgpomm-py"
  }
 },
 "nbformat": 4,
 "nbformat_minor": 2
}
