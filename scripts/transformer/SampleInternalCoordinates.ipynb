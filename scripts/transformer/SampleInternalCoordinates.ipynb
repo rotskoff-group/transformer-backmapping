{
 "cells": [
  {
   "cell_type": "markdown",
   "metadata": {},
   "source": [
    "# Sample Notebook to use generated components to generate internal coordinates (Chignolin)"
   ]
  },
  {
   "cell_type": "code",
   "execution_count": 4,
   "metadata": {},
   "outputs": [
    {
     "name": "stderr",
     "output_type": "stream",
     "text": [
      "Warning on use of the timeseries module: If the inherent timescales of the system are long compared to those being analyzed, this statistical inefficiency may be an underestimate.  The estimate presumes the use of many statistically independent samples.  Tests should be performed to assess whether this condition is satisfied.   Be cautious in the interpretation of the data.\n",
      "\n",
      "****** PyMBAR will use 64-bit JAX! *******\n",
      "* JAX is currently set to 32-bit bitsize *\n",
      "* which is its default.                  *\n",
      "*                                        *\n",
      "* PyMBAR requires 64-bit mode and WILL   *\n",
      "* enable JAX's 64-bit mode when called.  *\n",
      "*                                        *\n",
      "* This MAY cause problems with other     *\n",
      "* Uses of JAX in the same code.          *\n",
      "******************************************\n",
      "\n"
     ]
    }
   ],
   "source": [
    "import os\n",
    "import numpy as np\n",
    "import mdtraj as md\n",
    "from cgp import SideChainLens, GaussianMixtureModel\n",
    "import torch\n",
    "import torch.nn as nn"
   ]
  },
  {
   "cell_type": "code",
   "execution_count": 5,
   "metadata": {},
   "outputs": [],
   "source": [
    "device = torch.device(\"cpu\")"
   ]
  },
  {
   "cell_type": "code",
   "execution_count": 6,
   "metadata": {},
   "outputs": [
    {
     "name": "stderr",
     "output_type": "stream",
     "text": [
      "/home/groups/rotskoff/shriramconda3/envs/cgpomm/lib/python3.11/site-packages/mdtraj/core/trajectory.py:439: UserWarning: top= kwargs ignored since this file parser does not support it\n",
      "  warnings.warn('top= kwargs ignored since this file parser does not support it')\n"
     ]
    }
   ],
   "source": [
    "root_protein_folder_name = \"./datasets/chignolin/\"\n",
    "\n",
    "\n",
    "traj_folder_name = f\"{root_protein_folder_name}/fg_traj/\"\n",
    "all_subsampled_indices = np.load(traj_folder_name\n",
    "                                 + \"all_subsampled_indices.npy\")\n",
    "protein_filename = traj_folder_name + \"chignolin_traj.h5\"\n",
    "protein_traj = md.load(protein_filename, frame=0)\n",
    "protein_top = protein_traj.topology\n",
    "\n",
    "\n",
    "\n",
    "\n",
    "network_folder_name = f\"{root_protein_folder_name}/gmm/\"\n",
    "\n",
    "\n",
    "def get_gmm_model(in_dim, all_coordinates, num_components, protein_name):\n",
    "\n",
    "    num_datapoints = 500000\n",
    "    n_dim = in_dim\n",
    "    means = torch.randn(num_components, n_dim).to(device)\n",
    "    all_offset = torch.randn(1, n_dim).to(device).cpu().numpy()\n",
    "    covs = torch.eye(n_dim).unsqueeze(0).repeat(num_components,\n",
    "                                                1, 1).to(device)\n",
    "\n",
    "\n",
    "    weights = torch.ones(num_components, device=device) / num_components\n",
    "\n",
    "    tag = (str(protein_name) + \"_protein_name_\"\n",
    "           + \"_\".join(all_coordinates) + \"_coordinate_\"\n",
    "           + str(num_components) + \"_num_components_\"\n",
    "           + str(num_datapoints) + \"_num_datapoints\")\n",
    "\n",
    "    folder_name = network_folder_name + tag + \"/\"\n",
    "\n",
    "    if \"_\".join(all_coordinates) == \"dihedrals\":\n",
    "       sample_more_info = True\n",
    "    else:\n",
    "       sample_more_info = False\n",
    "\n",
    "\n",
    "    gmm_model = GaussianMixtureModel(means=means, covs=covs, weights=weights,\n",
    "                                     all_offset=all_offset,\n",
    "                                     folder_name=folder_name, \n",
    "                                     sample_more_info=sample_more_info,\n",
    "                                     device=device)\n",
    "    loaded_epoch = gmm_model.load(epoch_num=None)\n",
    "    sk_info = np.load(folder_name + \"sk_info.npy\", allow_pickle=True)\n",
    "\n",
    "    return gmm_model\n"
   ]
  },
  {
   "cell_type": "markdown",
   "metadata": {},
   "source": [
    "# Load GMMs"
   ]
  },
  {
   "cell_type": "code",
   "execution_count": 7,
   "metadata": {},
   "outputs": [
    {
     "name": "stdout",
     "output_type": "stream",
     "text": [
      "0\n",
      "1\n",
      "2\n",
      "3\n",
      "4\n",
      "5\n",
      "6\n",
      "7\n",
      "8\n",
      "9\n",
      "10\n",
      "11\n"
     ]
    }
   ],
   "source": [
    "all_tpp_names = np.loadtxt(\n",
    "    f\"{root_protein_folder_name}/tpp/sidechain_info/dihedral_name_n_components.txt\", dtype=str)\n",
    "\n",
    "\n",
    "side_chain_lens = SideChainLens(protein_top=protein_top)\n",
    "side_chain_info = side_chain_lens.get_data(protein_traj)\n",
    "\n",
    "\n",
    "all_chi_info_by_residue_num = side_chain_info[\"chi\"]\n",
    "\n",
    "ic_models_by_res_num = {}\n",
    "cg_c_info_by_res_num = {}\n",
    "z_matrix_by_res_num = {}\n",
    "all_num_components_by_res_num = {}\n",
    "dihedral_models_by_res_num = {}\n",
    "bond_length_angle_models_by_res_num = {}\n",
    "\n",
    "full_z_matrix = []\n",
    "for (res_num, chi_info) in all_chi_info_by_residue_num.items():\n",
    "    print(res_num)\n",
    "    # if chi_info is None:\n",
    "    if chi_info is None:\n",
    "        continue\n",
    "\n",
    "    if res_num == 0:\n",
    "        assert protein_top.residue(res_num).name == \"ACE\"\n",
    "        protein_name = \"ACE\"\n",
    "\n",
    "    elif res_num == protein_top.n_residues - 1:\n",
    "        assert protein_top.residue(res_num).name == \"NME\"\n",
    "        protein_name = \"NME\"\n",
    "    elif res_num == 1:\n",
    "        protein_name = f\"{protein_top.residue(res_num).name}_{protein_top.residue(res_num + 1).name}_{protein_top.residue(res_num + 2).name}_FIRST\"\n",
    "    elif res_num == protein_top.n_residues - 2:\n",
    "        protein_name = f\"{protein_top.residue(res_num - 2).name}_{protein_top.residue(res_num - 1).name}_{protein_top.residue(res_num).name}_LAST\"\n",
    "    else:\n",
    "        protein_name = f\"{protein_top.residue(res_num - 1).name}_{protein_top.residue(res_num).name}_{protein_top.residue(res_num + 1).name}\"\n",
    "\n",
    "    in_dim = np.load(\n",
    "        f\"{root_protein_folder_name}/tpp/sidechain_info/{protein_name}/dihedrals.npy\").shape[1]\n",
    "\n",
    "    n_components_dihedrals = all_tpp_names[all_tpp_names[:, 0]\n",
    "                                           == protein_name, 1].astype(int)[0]\n",
    "\n",
    "    bond_length_angle_model = get_gmm_model(in_dim * 2, [\"distances\", \"angles\"],\n",
    "                                            1, protein_name)\n",
    "    dihedral_model = get_gmm_model(in_dim, [\"dihedrals\"],\n",
    "                                   n_components_dihedrals, protein_name)\n",
    "    \n",
    "    bond_length_angle_models_by_res_num[res_num] = bond_length_angle_model\n",
    "    dihedral_models_by_res_num[res_num] = dihedral_model\n",
    "    full_z_matrix.append(chi_info[\"dihedral_indices\"])\n",
    "\n",
    "full_z_matrix = np.concatenate(full_z_matrix)"
   ]
  },
  {
   "cell_type": "code",
   "execution_count": 8,
   "metadata": {},
   "outputs": [],
   "source": [
    "dim_model = 256\n",
    "dropout_p = 0.1\n",
    "kt_cutoff = -50\n",
    "beta_target = 1.0\n",
    "epoch_num = 14\n",
    "dataset_tag = f\"prop_temp_300.0_dt_0.001_num_steps_5_cutoff_to_use_kt_{kt_cutoff}\"\n",
    "save_folder_name = f\"{dataset_tag}/test/\"\n",
    "all_backbones = os.listdir(save_folder_name)\n",
    "all_backbones = np.unique([x.split(\"_\")[0] for x in all_backbones])"
   ]
  },
  {
   "cell_type": "code",
   "execution_count": 9,
   "metadata": {},
   "outputs": [],
   "source": [
    "for backbone in all_backbones:\n",
    "    pred_components = torch.load(f\"{save_folder_name}{backbone}_pred_components.pt\", map_location=device)\n",
    "    all_dihedral_samples = []\n",
    "    all_bond_length_samples = []\n",
    "    all_angle_samples = []\n",
    "    for (res_num, dihedral_model) in dihedral_models_by_res_num.items():\n",
    "        dihedral_samples = dihedral_model.sample_from_selected_components(pred_components[:, res_num])\n",
    "        bond_length_angle_model = bond_length_angle_models_by_res_num[res_num]\n",
    "        bond_length_angle_samples, _ = bond_length_angle_model.sample(pred_components.shape[0])\n",
    "        bond_length_samples = bond_length_angle_samples[:, :bond_length_angle_samples.shape[-1] // 2]\n",
    "        angle_samples = bond_length_angle_samples[:, bond_length_angle_samples.shape[-1] // 2:]\n",
    "\n",
    "        all_dihedral_samples.append(dihedral_samples)\n",
    "        all_bond_length_samples.append(bond_length_samples)\n",
    "        all_angle_samples.append(angle_samples)\n",
    "\n",
    "\n",
    "    all_dihedral_samples = torch.cat(all_dihedral_samples, dim=-1)\n",
    "    all_bond_length_samples = torch.cat(all_bond_length_samples, dim=-1)\n",
    "    all_angle_samples = torch.cat(all_angle_samples, dim=-1)\n",
    "    all_ic_samples = torch.cat([all_bond_length_samples, all_angle_samples, all_dihedral_samples], dim=-1)\n",
    "\n",
    "    torch.save(all_dihedral_samples, f\"{save_folder_name}{backbone}_all_dihedral_samples.pt\")\n",
    "    torch.save(all_bond_length_samples, f\"{save_folder_name}{backbone}_all_bond_length_samples.pt\")\n",
    "    torch.save(all_angle_samples, f\"{save_folder_name}{backbone}_all_angle_samples.pt\")\n",
    "    torch.save(all_ic_samples, f\"{save_folder_name}{backbone}_all_ic_samples.pt\")\n"
   ]
  },
  {
   "cell_type": "code",
   "execution_count": 17,
   "metadata": {},
   "outputs": [
    {
     "data": {
      "text/plain": [
       "torch.Size([96, 100])"
      ]
     },
     "execution_count": 17,
     "metadata": {},
     "output_type": "execute_result"
    }
   ],
   "source": [
    "all_dihedral_samples.shape"
   ]
  }
 ],
 "metadata": {
  "kernelspec": {
   "display_name": "Python [conda env:cgpomm]",
   "language": "python",
   "name": "conda-env-cgpomm-py"
  },
  "language_info": {
   "codemirror_mode": {
    "name": "ipython",
    "version": 3
   },
   "file_extension": ".py",
   "mimetype": "text/x-python",
   "name": "python",
   "nbconvert_exporter": "python",
   "pygments_lexer": "ipython3",
   "version": "3.11.0"
  }
 },
 "nbformat": 4,
 "nbformat_minor": 2
}
